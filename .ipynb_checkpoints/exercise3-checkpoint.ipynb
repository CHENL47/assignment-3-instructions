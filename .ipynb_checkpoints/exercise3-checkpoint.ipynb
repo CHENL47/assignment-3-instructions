{
 "cells": [
  {
   "cell_type": "markdown",
   "metadata": {},
   "source": [
    "# ST445 Managing and Visualizing Data\n",
    "\n",
    "## Week 3 Assignment, MT 2017\n",
    "---\n",
    "**Note: This assignment will be assessed.  Deadline: 5pm, 18 October 2017**\n",
    "\n",
    "### A.  Normalizing data (40 points).\n",
    "\n",
    "This question uses this table:\n",
    "![Not normalized data](http://www.essentialsql.com/wp-content/uploads/2014/06/Intro-Table-Not-Normalized.png)\n",
    "\n",
    "from [the lecture notes](https://github.com/lse-st445/lectures/blob/master/week03/ST445_wk3_lecture.ipynb#normalization-example).  For each answer, please explain as fully as possible, and feel free to use tables or diagrams if you prefer.\n",
    "\n",
    "1\\.  Why does this table violate the first normal form, and what would be required to make it 1NF?"
   ]
  },
  {
   "cell_type": "markdown",
   "metadata": {},
   "source": [
    "1NF is violated because of the wide format of Customer1-3 and disappearance of values in several cells (a few blank cells). This table does not have a primary key, i.e. the set of attributes is not minimal. Since Customer1, Customer2 and Customer3 are the repeating groups, we might want to organise them in a way such that they are not repeating or introduce foreign key if necessary to make it a 1NF."
   ]
  },
  {
   "cell_type": "markdown",
   "metadata": {},
   "source": [
    "2\\.  What additional steps would be needed to make the table 2NF, and why?"
   ]
  },
  {
   "cell_type": "markdown",
   "metadata": {},
   "source": [
    "After reorganising the repeating attributes as suggested in part 1, we still have repeating elements in this table (e.g. the SalesOffice and OfficeNumber for employee 1003 and 1005), which violates the definition of 2NF. Such redundantly duplicated data across multiple rows of the table should be moved out to a separate table and linked via a foreign key."
   ]
  },
  {
   "cell_type": "markdown",
   "metadata": {},
   "source": [
    "3\\.  Why might we not want to normalize data to the fullest extent possible?"
   ]
  },
  {
   "cell_type": "markdown",
   "metadata": {},
   "source": [
    "If we normalise the data as much as possible then we will end up with too many seperate tables and it is complicated and time consuming to track our desired details, in this case, the employee's information in multiple tables."
   ]
  },
  {
   "cell_type": "markdown",
   "metadata": {},
   "source": [
    "4\\.  In the table below, which of the three normalization rules does this violate, if any, and why?\n",
    "\n",
    "   |  countryID  |  countryName    |   EUmember   |  EUjoindate  |\n",
    "   | -----------:|:----------------|:------------:|:------------:|\n",
    "   | 00001       | France          |  `true`      |  1958-01-01  |\n",
    "   | 00004       | Hungary         |  `true`      |  2004-05-01  |\n",
    "   | 00003       | Serbia          |  `false`     |       `NULL` |\n",
    "   | 00004       | Finland         |  `true`      |  1995-01-01  |\n",
    "   | 00005       | Russia          |  `false`     |       `NULL` |\n",
    "   | 00006       | Ireland, UK     |  `true`      |  1973-01-01  |\n",
    "\n",
    "   Are there any other problems with the table, besides normalization?"
   ]
  },
  {
   "cell_type": "markdown",
   "metadata": {},
   "source": [
    "NF2 is violated because there are repeating elements ('true' and 'false').\n",
    "NF3 is violated as well because EUmember and EUjoindate are transitive functional dependencies which are supposed to be removed from this table and put into another one with only coutryName inside.\n",
    "\n",
    "The other problem is that the primary key (countryID) is not unique, i.e. the 'typo' of countryID of Hungary and that of Finland which are supposed to be distinct (in common sense).\n"
   ]
  },
  {
   "cell_type": "markdown",
   "metadata": {},
   "source": [
    "5\\.  What would it take to full (1NF-3NF) normalize this dataset?\n",
    "\n",
    "   Write out these tables, and describe why this meets each of the normal forms.  This is a database of movies watched on NetBricks, a streaming movie service.\n",
    "\n",
    "   | Name           | Address    |   Movies Rented   |  Salutation  | Category |\n",
    "   |:---------------|:-----------|:------------------|:------------:|----------|\n",
    "   | Bob Smith      | 1 Houghton Street    | _Star Wars_, _Inception_ |  Dr.   |  Scifi, Scifi |\n",
    "   | Pry Ministair  | 10 Downing St     |  _Brexit the Movie_      |  Lady  | Tragedy |\n",
    "   | Joe Bloggs     | 8 Myhatt St.      |  _Fast and Furious 6_, _Fast and Furious 7_     | Mr. | Action, Action |\n"
   ]
  },
  {
   "cell_type": "markdown",
   "metadata": {},
   "source": [
    "1NF:\n",
    "\n",
    "| Name           | Address    |   Movies Rented   |  Salutation  | Category |\n",
    "   |:---------------|:-----------|:------------------|:------------:|----------|\n",
    "   | Bob Smith      | 1 Houghton Street    | _Star Wars_ |  Dr.   |  Scifi |\n",
    "   | Bob Smith      | 1 Houghton Street    | _Inception_ |  Dr.   |  Scifi |\n",
    "   | Pry Ministair  | 10 Downing St     |  _Brexit the Movie_      |  Lady  | Tragedy |\n",
    "   | Joe Bloggs     | 8 Myhatt St.      |  _Fast and Furious 6_    | Mr. | Action |\n",
    "   | Joe Bloggs     | 8 Myhatt St.      |  _Fast and Furious 7_     | Mr. | Action |\n",
    "As we observe in the original table, Movies Rented column has multiple values. So in order to make 1NF, we have to make sure that each table cell only contains a single value and each attribute/record needs to be unique.\n",
    "\n",
    "\n",
    "2NF:\n",
    "After we make the above table 1NF, the only requirement of 2NF is just single column primary key, which has already been achieved in our case.\n",
    "\n",
    "\n",
    "3NF:\n",
    "Changing Name will change Salutation, which means that Name and Salutation are 2 transitive dependencies. Thus, these 2 should be removed in order to achieve 3NF which has the requirement of no transitive dependencies.\n",
    "\n",
    "|   Salutation ID   | Salutation |\n",
    "   |:------------------|----------|\n",
    "   | 1 |  Mr. |\n",
    "   | 2 |  Mrs. |\n",
    "   |  3      | Ms. |\n",
    "   |  4    | Dr. |\n",
    "   |  5    | Lady |   \n",
    " \n",
    "   \n",
    "| Membership ID |Name           | Address    |  Salutation ID  |\n",
    "   |:---------------|:--|:-----------|:------------------|:------------:|----------|\n",
    "   | 1|Bob Smith      | 1 Houghton Street    |  4   |\n",
    "   | 1|Bob Smith      | 1 Houghton Street    |  4   |\n",
    "   | 2|Pry Ministair  | 10 Downing St     |  5  |\n",
    "   | 3|Joe Bloggs     | 8 Myhatt St.      | 1 |\n",
    "   | 3|Joe Bloggs     | 8 Myhatt St.      | 1 |\n",
    "   \n",
    "   \n",
    "|   Membership ID | Movies Rented |\n",
    "   |:-----------|:-------|----------|\n",
    "   | 1      | _Star Wars_|\n",
    "   | 1      | _Inception_|\n",
    "   | 2  |  _Brexit the Movie_|\n",
    "   | 3     |  _Fast and Furious 6_|\n",
    "   | 3     |  _Fast and Furious 7_|\n",
    "\n",
    "|   Movies Rented   | Category |\n",
    "   |:------------------|----------|\n",
    "   | _Star Wars_ |  Scifi |\n",
    "   | _Inception_ |  Scifi |\n",
    "   |  _Brexit the Movie_      | Tragedy |\n",
    "   |  _Fast and Furious 6_    | Action |\n",
    "   |  _Fast and Furious 7_     | Action |\n",
    "   \n",
    "We have again divided our tables and created a new table which stores Salutation.\n",
    "There are no transitive dependencies and hence our tables are indeed 3NF.\n",
    "   "
   ]
  },
  {
   "cell_type": "code",
   "execution_count": null,
   "metadata": {
    "collapsed": true
   },
   "outputs": [],
   "source": []
  },
  {
   "cell_type": "markdown",
   "metadata": {},
   "source": [
    "### B.  Reshaping data (30 points)\n",
    "\n",
    "For this exercise, we will use the **nycflights13** R package, whose tables have been output in `.csv` form [here](nycflights13/).  You may do the following in either R or Python.  Note that this example is developed extensively in [_R for Data Science_](http://r4ds.had.co.nz/relational-data.html).\n",
    "\n",
    "1\\.  Create a subtable of the `flights` data, that departed before 05:53 on 2013-02-28.  How many rows and columns does this subtable have?  \n",
    "\n"
   ]
  },
  {
   "cell_type": "code",
   "execution_count": 3,
   "metadata": {},
   "outputs": [
    {
     "data": {
      "text/html": [
       "<table>\n",
       "<thead><tr><th></th><th scope=col>X</th><th scope=col>year</th><th scope=col>month</th><th scope=col>day</th><th scope=col>dep_time</th><th scope=col>sched_dep_time</th><th scope=col>dep_delay</th><th scope=col>arr_time</th><th scope=col>sched_arr_time</th><th scope=col>arr_delay</th><th scope=col>carrier</th><th scope=col>flight</th><th scope=col>tailnum</th><th scope=col>origin</th><th scope=col>dest</th><th scope=col>air_time</th><th scope=col>distance</th><th scope=col>hour</th><th scope=col>minute</th><th scope=col>time_hour</th></tr></thead>\n",
       "<tbody>\n",
       "\t<tr><th scope=row>135284</th><td>135284             </td><td>2013               </td><td>2                  </td><td>28                 </td><td>457                </td><td>500                </td><td> -3                </td><td> 639               </td><td> 648               </td><td> -9                </td><td>US                 </td><td>1117               </td><td>N198UW             </td><td>EWR                </td><td>CLT                </td><td> 82                </td><td> 529               </td><td>5                  </td><td> 0                 </td><td>2013-02-28 05:00:00</td></tr>\n",
       "\t<tr><th scope=row>135285</th><td>135285             </td><td>2013               </td><td>2                  </td><td>28                 </td><td>458                </td><td>501                </td><td> -3                </td><td> 748               </td><td> 800               </td><td>-12                </td><td>UA                 </td><td> 697               </td><td>N816UA             </td><td>EWR                </td><td>IAH                </td><td>211                </td><td>1400               </td><td>5                  </td><td> 1                 </td><td>2013-02-28 05:00:00</td></tr>\n",
       "\t<tr><th scope=row>135286</th><td>135286             </td><td>2013               </td><td>2                  </td><td>28                 </td><td>522                </td><td>530                </td><td> -8                </td><td> 832               </td><td> 831               </td><td>  1                </td><td>UA                 </td><td>1714               </td><td>N24224             </td><td>LGA                </td><td>IAH                </td><td>217                </td><td>1416               </td><td>5                  </td><td>30                 </td><td>2013-02-28 05:00:00</td></tr>\n",
       "\t<tr><th scope=row>135287</th><td>135287             </td><td>2013               </td><td>2                  </td><td>28                 </td><td>539                </td><td>540                </td><td> -1                </td><td> 836               </td><td> 850               </td><td>-14                </td><td>AA                 </td><td>1141               </td><td>N638AA             </td><td>JFK                </td><td>MIA                </td><td>157                </td><td>1089               </td><td>5                  </td><td>40                 </td><td>2013-02-28 05:00:00</td></tr>\n",
       "\t<tr><th scope=row>135288</th><td>135288             </td><td>2013               </td><td>2                  </td><td>28                 </td><td>540                </td><td>545                </td><td> -5                </td><td>1015               </td><td>1023               </td><td> -8                </td><td>B6                 </td><td> 725               </td><td>N586JB             </td><td>JFK                </td><td>BQN                </td><td>195                </td><td>1576               </td><td>5                  </td><td>45                 </td><td>2013-02-28 05:00:00</td></tr>\n",
       "\t<tr><th scope=row>135289</th><td>135289             </td><td>2013               </td><td>2                  </td><td>28                 </td><td>549                </td><td>600                </td><td>-11                </td><td> 730               </td><td> 801               </td><td>-31                </td><td>EV                 </td><td>4911               </td><td>N741EV             </td><td>EWR                </td><td>DTW                </td><td> 80                </td><td> 488               </td><td>6                  </td><td> 0                 </td><td>2013-02-28 06:00:00</td></tr>\n",
       "\t<tr><th scope=row>135290</th><td>135290             </td><td>2013               </td><td>2                  </td><td>28                 </td><td>551                </td><td>600                </td><td> -9                </td><td> 717               </td><td> 745               </td><td>-28                </td><td>AA                 </td><td> 301               </td><td>N3ETAA             </td><td>LGA                </td><td>ORD                </td><td>105                </td><td> 733               </td><td>6                  </td><td> 0                 </td><td>2013-02-28 06:00:00</td></tr>\n",
       "\t<tr><th scope=row>135291</th><td>135291             </td><td>2013               </td><td>2                  </td><td>28                 </td><td>551                </td><td>600                </td><td> -9                </td><td> 808               </td><td> 825               </td><td>-17                </td><td>MQ                 </td><td>4650               </td><td>N8EGMQ             </td><td>LGA                </td><td>ATL                </td><td>115                </td><td> 762               </td><td>6                  </td><td> 0                 </td><td>2013-02-28 06:00:00</td></tr>\n",
       "\t<tr><th scope=row>135292</th><td>135292             </td><td>2013               </td><td>2                  </td><td>28                 </td><td>552                </td><td>600                </td><td> -8                </td><td> 839               </td><td> 910               </td><td>-31                </td><td>AA                 </td><td> 707               </td><td>N3CKAA             </td><td>LGA                </td><td>DFW                </td><td>205                </td><td>1389               </td><td>6                  </td><td> 0                 </td><td>2013-02-28 06:00:00</td></tr>\n",
       "\t<tr><th scope=row>135293</th><td>135293             </td><td>2013               </td><td>2                  </td><td>28                 </td><td>552                </td><td>600                </td><td> -8                </td><td> 848               </td><td> 901               </td><td>-13                </td><td>B6                 </td><td> 371               </td><td>N615JB             </td><td>LGA                </td><td>FLL                </td><td>153                </td><td>1076               </td><td>6                  </td><td> 0                 </td><td>2013-02-28 06:00:00</td></tr>\n",
       "</tbody>\n",
       "</table>\n"
      ],
      "text/latex": [
       "\\begin{tabular}{r|llllllllllllllllllll}\n",
       "  & X & year & month & day & dep\\_time & sched\\_dep\\_time & dep\\_delay & arr\\_time & sched\\_arr\\_time & arr\\_delay & carrier & flight & tailnum & origin & dest & air\\_time & distance & hour & minute & time\\_hour\\\\\n",
       "\\hline\n",
       "\t135284 & 135284              & 2013                & 2                   & 28                  & 457                 & 500                 &  -3                 &  639                &  648                &  -9                 & US                  & 1117                & N198UW              & EWR                 & CLT                 &  82                 &  529                & 5                   &  0                  & 2013-02-28 05:00:00\\\\\n",
       "\t135285 & 135285              & 2013                & 2                   & 28                  & 458                 & 501                 &  -3                 &  748                &  800                & -12                 & UA                  &  697                & N816UA              & EWR                 & IAH                 & 211                 & 1400                & 5                   &  1                  & 2013-02-28 05:00:00\\\\\n",
       "\t135286 & 135286              & 2013                & 2                   & 28                  & 522                 & 530                 &  -8                 &  832                &  831                &   1                 & UA                  & 1714                & N24224              & LGA                 & IAH                 & 217                 & 1416                & 5                   & 30                  & 2013-02-28 05:00:00\\\\\n",
       "\t135287 & 135287              & 2013                & 2                   & 28                  & 539                 & 540                 &  -1                 &  836                &  850                & -14                 & AA                  & 1141                & N638AA              & JFK                 & MIA                 & 157                 & 1089                & 5                   & 40                  & 2013-02-28 05:00:00\\\\\n",
       "\t135288 & 135288              & 2013                & 2                   & 28                  & 540                 & 545                 &  -5                 & 1015                & 1023                &  -8                 & B6                  &  725                & N586JB              & JFK                 & BQN                 & 195                 & 1576                & 5                   & 45                  & 2013-02-28 05:00:00\\\\\n",
       "\t135289 & 135289              & 2013                & 2                   & 28                  & 549                 & 600                 & -11                 &  730                &  801                & -31                 & EV                  & 4911                & N741EV              & EWR                 & DTW                 &  80                 &  488                & 6                   &  0                  & 2013-02-28 06:00:00\\\\\n",
       "\t135290 & 135290              & 2013                & 2                   & 28                  & 551                 & 600                 &  -9                 &  717                &  745                & -28                 & AA                  &  301                & N3ETAA              & LGA                 & ORD                 & 105                 &  733                & 6                   &  0                  & 2013-02-28 06:00:00\\\\\n",
       "\t135291 & 135291              & 2013                & 2                   & 28                  & 551                 & 600                 &  -9                 &  808                &  825                & -17                 & MQ                  & 4650                & N8EGMQ              & LGA                 & ATL                 & 115                 &  762                & 6                   &  0                  & 2013-02-28 06:00:00\\\\\n",
       "\t135292 & 135292              & 2013                & 2                   & 28                  & 552                 & 600                 &  -8                 &  839                &  910                & -31                 & AA                  &  707                & N3CKAA              & LGA                 & DFW                 & 205                 & 1389                & 6                   &  0                  & 2013-02-28 06:00:00\\\\\n",
       "\t135293 & 135293              & 2013                & 2                   & 28                  & 552                 & 600                 &  -8                 &  848                &  901                & -13                 & B6                  &  371                & N615JB              & LGA                 & FLL                 & 153                 & 1076                & 6                   &  0                  & 2013-02-28 06:00:00\\\\\n",
       "\\end{tabular}\n"
      ],
      "text/markdown": [
       "\n",
       "| <!--/--> | X | year | month | day | dep_time | sched_dep_time | dep_delay | arr_time | sched_arr_time | arr_delay | carrier | flight | tailnum | origin | dest | air_time | distance | hour | minute | time_hour | \n",
       "|---|---|---|---|---|---|---|---|---|---|\n",
       "| 135284 | 135284              | 2013                | 2                   | 28                  | 457                 | 500                 |  -3                 |  639                |  648                |  -9                 | US                  | 1117                | N198UW              | EWR                 | CLT                 |  82                 |  529                | 5                   |  0                  | 2013-02-28 05:00:00 | \n",
       "| 135285 | 135285              | 2013                | 2                   | 28                  | 458                 | 501                 |  -3                 |  748                |  800                | -12                 | UA                  |  697                | N816UA              | EWR                 | IAH                 | 211                 | 1400                | 5                   |  1                  | 2013-02-28 05:00:00 | \n",
       "| 135286 | 135286              | 2013                | 2                   | 28                  | 522                 | 530                 |  -8                 |  832                |  831                |   1                 | UA                  | 1714                | N24224              | LGA                 | IAH                 | 217                 | 1416                | 5                   | 30                  | 2013-02-28 05:00:00 | \n",
       "| 135287 | 135287              | 2013                | 2                   | 28                  | 539                 | 540                 |  -1                 |  836                |  850                | -14                 | AA                  | 1141                | N638AA              | JFK                 | MIA                 | 157                 | 1089                | 5                   | 40                  | 2013-02-28 05:00:00 | \n",
       "| 135288 | 135288              | 2013                | 2                   | 28                  | 540                 | 545                 |  -5                 | 1015                | 1023                |  -8                 | B6                  |  725                | N586JB              | JFK                 | BQN                 | 195                 | 1576                | 5                   | 45                  | 2013-02-28 05:00:00 | \n",
       "| 135289 | 135289              | 2013                | 2                   | 28                  | 549                 | 600                 | -11                 |  730                |  801                | -31                 | EV                  | 4911                | N741EV              | EWR                 | DTW                 |  80                 |  488                | 6                   |  0                  | 2013-02-28 06:00:00 | \n",
       "| 135290 | 135290              | 2013                | 2                   | 28                  | 551                 | 600                 |  -9                 |  717                |  745                | -28                 | AA                  |  301                | N3ETAA              | LGA                 | ORD                 | 105                 |  733                | 6                   |  0                  | 2013-02-28 06:00:00 | \n",
       "| 135291 | 135291              | 2013                | 2                   | 28                  | 551                 | 600                 |  -9                 |  808                |  825                | -17                 | MQ                  | 4650                | N8EGMQ              | LGA                 | ATL                 | 115                 |  762                | 6                   |  0                  | 2013-02-28 06:00:00 | \n",
       "| 135292 | 135292              | 2013                | 2                   | 28                  | 552                 | 600                 |  -8                 |  839                |  910                | -31                 | AA                  |  707                | N3CKAA              | LGA                 | DFW                 | 205                 | 1389                | 6                   |  0                  | 2013-02-28 06:00:00 | \n",
       "| 135293 | 135293              | 2013                | 2                   | 28                  | 552                 | 600                 |  -8                 |  848                |  901                | -13                 | B6                  |  371                | N615JB              | LGA                 | FLL                 | 153                 | 1076                | 6                   |  0                  | 2013-02-28 06:00:00 | \n",
       "\n",
       "\n"
      ],
      "text/plain": [
       "       X      year month day dep_time sched_dep_time dep_delay arr_time\n",
       "135284 135284 2013 2     28  457      500             -3        639    \n",
       "135285 135285 2013 2     28  458      501             -3        748    \n",
       "135286 135286 2013 2     28  522      530             -8        832    \n",
       "135287 135287 2013 2     28  539      540             -1        836    \n",
       "135288 135288 2013 2     28  540      545             -5       1015    \n",
       "135289 135289 2013 2     28  549      600            -11        730    \n",
       "135290 135290 2013 2     28  551      600             -9        717    \n",
       "135291 135291 2013 2     28  551      600             -9        808    \n",
       "135292 135292 2013 2     28  552      600             -8        839    \n",
       "135293 135293 2013 2     28  552      600             -8        848    \n",
       "       sched_arr_time arr_delay carrier flight tailnum origin dest air_time\n",
       "135284  648            -9       US      1117   N198UW  EWR    CLT   82     \n",
       "135285  800           -12       UA       697   N816UA  EWR    IAH  211     \n",
       "135286  831             1       UA      1714   N24224  LGA    IAH  217     \n",
       "135287  850           -14       AA      1141   N638AA  JFK    MIA  157     \n",
       "135288 1023            -8       B6       725   N586JB  JFK    BQN  195     \n",
       "135289  801           -31       EV      4911   N741EV  EWR    DTW   80     \n",
       "135290  745           -28       AA       301   N3ETAA  LGA    ORD  105     \n",
       "135291  825           -17       MQ      4650   N8EGMQ  LGA    ATL  115     \n",
       "135292  910           -31       AA       707   N3CKAA  LGA    DFW  205     \n",
       "135293  901           -13       B6       371   N615JB  LGA    FLL  153     \n",
       "       distance hour minute time_hour          \n",
       "135284  529     5     0     2013-02-28 05:00:00\n",
       "135285 1400     5     1     2013-02-28 05:00:00\n",
       "135286 1416     5    30     2013-02-28 05:00:00\n",
       "135287 1089     5    40     2013-02-28 05:00:00\n",
       "135288 1576     5    45     2013-02-28 05:00:00\n",
       "135289  488     6     0     2013-02-28 06:00:00\n",
       "135290  733     6     0     2013-02-28 06:00:00\n",
       "135291  762     6     0     2013-02-28 06:00:00\n",
       "135292 1389     6     0     2013-02-28 06:00:00\n",
       "135293 1076     6     0     2013-02-28 06:00:00"
      ]
     },
     "metadata": {},
     "output_type": "display_data"
    },
    {
     "data": {
      "text/html": [
       "10"
      ],
      "text/latex": [
       "10"
      ],
      "text/markdown": [
       "10"
      ],
      "text/plain": [
       "[1] 10"
      ]
     },
     "metadata": {},
     "output_type": "display_data"
    },
    {
     "data": {
      "text/html": [
       "20"
      ],
      "text/latex": [
       "20"
      ],
      "text/markdown": [
       "20"
      ],
      "text/plain": [
       "[1] 20"
      ]
     },
     "metadata": {},
     "output_type": "display_data"
    }
   ],
   "source": [
    "setwd(\"~/Downloads\")\n",
    "flights <- read.csv('flights.csv')\n",
    "sub_flights <- subset(flights, dep_time<553 &year==2013 & month == 2 & day == 28) #choose the subset from the flights data which meets the criteria described in the question\n",
    "sub_flights #compute the extracted subtable\n",
    "nrow(sub_flights) #we have 10 rows of this subtable\n",
    "ncol(sub_flights) #and 20 columns"
   ]
  },
  {
   "cell_type": "code",
   "execution_count": null,
   "metadata": {
    "collapsed": true
   },
   "outputs": [],
   "source": []
  },
  {
   "cell_type": "markdown",
   "metadata": {},
   "source": [
    "2\\.  Merge or join the subtable from a. `airports` data, to produce a result that includes:  \n",
    "   *  Departure time\n",
    "   *  Carrier (two digit code, from `carrier`)\n",
    "   *  Flight number\n",
    "   *  Destination airport name (hint: you will need to get this from the `airports` table)  "
   ]
  },
  {
   "cell_type": "code",
   "execution_count": 5,
   "metadata": {},
   "outputs": [
    {
     "data": {
      "text/html": [
       "<table>\n",
       "<thead><tr><th scope=col>dep_time</th><th scope=col>carrier</th><th scope=col>flight</th><th scope=col>name</th></tr></thead>\n",
       "<tbody>\n",
       "\t<tr><td>551                            </td><td>MQ                             </td><td>4650                           </td><td>Hartsfield Jackson Atlanta Intl</td></tr>\n",
       "\t<tr><td>457                            </td><td>US                             </td><td>1117                           </td><td>Charlotte Douglas Intl         </td></tr>\n",
       "\t<tr><td>552                            </td><td>AA                             </td><td> 707                           </td><td>Dallas Fort Worth Intl         </td></tr>\n",
       "\t<tr><td>549                            </td><td>EV                             </td><td>4911                           </td><td>Detroit Metro Wayne Co         </td></tr>\n",
       "\t<tr><td>552                            </td><td>B6                             </td><td> 371                           </td><td>Fort Lauderdale Hollywood Intl </td></tr>\n",
       "\t<tr><td>458                            </td><td>UA                             </td><td> 697                           </td><td>George Bush Intercontinental   </td></tr>\n",
       "\t<tr><td>522                            </td><td>UA                             </td><td>1714                           </td><td>George Bush Intercontinental   </td></tr>\n",
       "\t<tr><td>539                            </td><td>AA                             </td><td>1141                           </td><td>Miami Intl                     </td></tr>\n",
       "\t<tr><td>551                            </td><td>AA                             </td><td> 301                           </td><td>Chicago Ohare Intl             </td></tr>\n",
       "</tbody>\n",
       "</table>\n"
      ],
      "text/latex": [
       "\\begin{tabular}{r|llll}\n",
       " dep\\_time & carrier & flight & name\\\\\n",
       "\\hline\n",
       "\t 551                             & MQ                              & 4650                            & Hartsfield Jackson Atlanta Intl\\\\\n",
       "\t 457                             & US                              & 1117                            & Charlotte Douglas Intl         \\\\\n",
       "\t 552                             & AA                              &  707                            & Dallas Fort Worth Intl         \\\\\n",
       "\t 549                             & EV                              & 4911                            & Detroit Metro Wayne Co         \\\\\n",
       "\t 552                             & B6                              &  371                            & Fort Lauderdale Hollywood Intl \\\\\n",
       "\t 458                             & UA                              &  697                            & George Bush Intercontinental   \\\\\n",
       "\t 522                             & UA                              & 1714                            & George Bush Intercontinental   \\\\\n",
       "\t 539                             & AA                              & 1141                            & Miami Intl                     \\\\\n",
       "\t 551                             & AA                              &  301                            & Chicago Ohare Intl             \\\\\n",
       "\\end{tabular}\n"
      ],
      "text/markdown": [
       "\n",
       "dep_time | carrier | flight | name | \n",
       "|---|---|---|---|---|---|---|---|---|\n",
       "| 551                             | MQ                              | 4650                            | Hartsfield Jackson Atlanta Intl | \n",
       "| 457                             | US                              | 1117                            | Charlotte Douglas Intl          | \n",
       "| 552                             | AA                              |  707                            | Dallas Fort Worth Intl          | \n",
       "| 549                             | EV                              | 4911                            | Detroit Metro Wayne Co          | \n",
       "| 552                             | B6                              |  371                            | Fort Lauderdale Hollywood Intl  | \n",
       "| 458                             | UA                              |  697                            | George Bush Intercontinental    | \n",
       "| 522                             | UA                              | 1714                            | George Bush Intercontinental    | \n",
       "| 539                             | AA                              | 1141                            | Miami Intl                      | \n",
       "| 551                             | AA                              |  301                            | Chicago Ohare Intl              | \n",
       "\n",
       "\n"
      ],
      "text/plain": [
       "  dep_time carrier flight name                           \n",
       "1 551      MQ      4650   Hartsfield Jackson Atlanta Intl\n",
       "2 457      US      1117   Charlotte Douglas Intl         \n",
       "3 552      AA       707   Dallas Fort Worth Intl         \n",
       "4 549      EV      4911   Detroit Metro Wayne Co         \n",
       "5 552      B6       371   Fort Lauderdale Hollywood Intl \n",
       "6 458      UA       697   George Bush Intercontinental   \n",
       "7 522      UA      1714   George Bush Intercontinental   \n",
       "8 539      AA      1141   Miami Intl                     \n",
       "9 551      AA       301   Chicago Ohare Intl             "
      ]
     },
     "metadata": {},
     "output_type": "display_data"
    }
   ],
   "source": [
    "airports <- read.csv('airports.csv')\n",
    "merged_sub_flights <- merge(sub_flights,airports,by.x=c(\"dest\"),by.y=c(\"faa\")) #merge the subtable from part 1 and the airports data together\n",
    "B2 <- subset(merged_sub_flights,select=c(dep_time, carrier, flight, name)) #filter out the 4 results we need\n",
    "B2 #compute our results\n",
    "#An additional word: we can see that here our output only has 9 rows whereas 10 rows in part 1. This is probably because \n",
    "#one piece of information from sub_flights data is not available in airports data (incomplete information)."
   ]
  },
  {
   "cell_type": "markdown",
   "metadata": {},
   "source": [
    "3\\.  For every airline that had flights in the `flights` data compute the average age of the planes it flew from the entire dataset.  Age here will be defined as 2013 minus the `year` variable from the `planes` data.  Hint: This involves a join operation on `tailnum`, but also a grouped mean to compute the age (and subtracting 2013, which you can do before or after the computation of the mean)."
   ]
  },
  {
   "cell_type": "code",
   "execution_count": 6,
   "metadata": {},
   "outputs": [
    {
     "data": {
      "text/html": [
       "<table>\n",
       "<thead><tr><th scope=col>carrier</th><th scope=col>year.y</th></tr></thead>\n",
       "<tbody>\n",
       "\t<tr><td>9E       </td><td> 8.287129</td></tr>\n",
       "\t<tr><td>AA       </td><td>25.402439</td></tr>\n",
       "\t<tr><td>AS       </td><td> 5.156627</td></tr>\n",
       "\t<tr><td>B6       </td><td> 6.497326</td></tr>\n",
       "\t<tr><td>DL       </td><td>17.671593</td></tr>\n",
       "\t<tr><td>EV       </td><td>10.558442</td></tr>\n",
       "\t<tr><td>F9       </td><td> 5.000000</td></tr>\n",
       "\t<tr><td>FL       </td><td>10.794643</td></tr>\n",
       "\t<tr><td>HA       </td><td> 1.230769</td></tr>\n",
       "\t<tr><td>MQ       </td><td>35.500000</td></tr>\n",
       "\t<tr><td>OO       </td><td> 7.142857</td></tr>\n",
       "\t<tr><td>UA       </td><td>13.050934</td></tr>\n",
       "\t<tr><td>US       </td><td>10.996283</td></tr>\n",
       "\t<tr><td>VX       </td><td> 4.288462</td></tr>\n",
       "\t<tr><td>WN       </td><td>11.005272</td></tr>\n",
       "\t<tr><td>YV       </td><td> 9.438596</td></tr>\n",
       "</tbody>\n",
       "</table>\n"
      ],
      "text/latex": [
       "\\begin{tabular}{r|ll}\n",
       " carrier & year.y\\\\\n",
       "\\hline\n",
       "\t 9E        &  8.287129\\\\\n",
       "\t AA        & 25.402439\\\\\n",
       "\t AS        &  5.156627\\\\\n",
       "\t B6        &  6.497326\\\\\n",
       "\t DL        & 17.671593\\\\\n",
       "\t EV        & 10.558442\\\\\n",
       "\t F9        &  5.000000\\\\\n",
       "\t FL        & 10.794643\\\\\n",
       "\t HA        &  1.230769\\\\\n",
       "\t MQ        & 35.500000\\\\\n",
       "\t OO        &  7.142857\\\\\n",
       "\t UA        & 13.050934\\\\\n",
       "\t US        & 10.996283\\\\\n",
       "\t VX        &  4.288462\\\\\n",
       "\t WN        & 11.005272\\\\\n",
       "\t YV        &  9.438596\\\\\n",
       "\\end{tabular}\n"
      ],
      "text/markdown": [
       "\n",
       "carrier | year.y | \n",
       "|---|---|---|---|---|---|---|---|---|---|---|---|---|---|---|---|\n",
       "| 9E        |  8.287129 | \n",
       "| AA        | 25.402439 | \n",
       "| AS        |  5.156627 | \n",
       "| B6        |  6.497326 | \n",
       "| DL        | 17.671593 | \n",
       "| EV        | 10.558442 | \n",
       "| F9        |  5.000000 | \n",
       "| FL        | 10.794643 | \n",
       "| HA        |  1.230769 | \n",
       "| MQ        | 35.500000 | \n",
       "| OO        |  7.142857 | \n",
       "| UA        | 13.050934 | \n",
       "| US        | 10.996283 | \n",
       "| VX        |  4.288462 | \n",
       "| WN        | 11.005272 | \n",
       "| YV        |  9.438596 | \n",
       "\n",
       "\n"
      ],
      "text/plain": [
       "   carrier year.y   \n",
       "1  9E       8.287129\n",
       "2  AA      25.402439\n",
       "3  AS       5.156627\n",
       "4  B6       6.497326\n",
       "5  DL      17.671593\n",
       "6  EV      10.558442\n",
       "7  F9       5.000000\n",
       "8  FL      10.794643\n",
       "9  HA       1.230769\n",
       "10 MQ      35.500000\n",
       "11 OO       7.142857\n",
       "12 UA      13.050934\n",
       "13 US      10.996283\n",
       "14 VX       4.288462\n",
       "15 WN      11.005272\n",
       "16 YV       9.438596"
      ]
     },
     "metadata": {},
     "output_type": "display_data"
    }
   ],
   "source": [
    "planes <- read.csv('planes.csv')\n",
    "merged_tailnum <- merge(flights, planes, by = c('tailnum')) #merge the flights data and planes data together\n",
    "selected_merged_tailnum <- subset(merged_tailnum, select = c(year.y, carrier, tailnum)) #pick out our desired attributes\n",
    "unique_tailnum <- unique(selected_merged_tailnum) #remove any replication\n",
    "B3 <- aggregate(year.y~carrier, unique_tailnum, mean) #compute the group mean\n",
    "B3$year.y <- 2013 - B3$year.y #calculate the corresponding ages\n",
    "B3"
   ]
  },
  {
   "cell_type": "markdown",
   "metadata": {},
   "source": [
    "### C.  Working with SQL.  (30 points)\n",
    "\n",
    "1\\.  Create a relational dataset in SQLite using the `.csv` data found [here](nycflights13/).  Name each table so that it matches the base filenames of the input data.  You can use DB Browser for this, but describe how you did it.   If you use SQL commands, include that.\n",
    "\n",
    "\n"
   ]
  },
  {
   "cell_type": "markdown",
   "metadata": {},
   "source": [
    "First I create a database in DB Browser, then click 'File'->'Import -> data from csv file'. Add each csv files to their corresponding table and tick the box of 'column name in first line'. Lastly, export the database."
   ]
  },
  {
   "cell_type": "markdown",
   "metadata": {},
   "source": [
    "2\\.  Replicate B2 above using an SQL query, including both the command and the output."
   ]
  },
  {
   "cell_type": "markdown",
   "metadata": {},
   "source": [
    "SELECT flights.dep_time, flights.carrier, flights.flight, airports.name as subtable_B2\n",
    "from flights inner join airports\n",
    "on flights.dest = airports.faa\n",
    "where year=2013 and month=2 and day=28 and dep_time < 553;"
   ]
  },
  {
   "cell_type": "code",
   "execution_count": 8,
   "metadata": {},
   "outputs": [
    {
     "data": {
      "text/html": [
       "<table>\n",
       "<thead><tr><th scope=col>dep_time</th><th scope=col>carrier</th><th scope=col>flight</th><th scope=col>name</th></tr></thead>\n",
       "<tbody>\n",
       "\t<tr><td>457                            </td><td>US                             </td><td>1117                           </td><td>Charlotte Douglas Intl         </td></tr>\n",
       "\t<tr><td>458                            </td><td>UA                             </td><td> 697                           </td><td>George Bush Intercontinental   </td></tr>\n",
       "\t<tr><td>522                            </td><td>UA                             </td><td>1714                           </td><td>George Bush Intercontinental   </td></tr>\n",
       "\t<tr><td>539                            </td><td>AA                             </td><td>1141                           </td><td>Miami Intl                     </td></tr>\n",
       "\t<tr><td>549                            </td><td>EV                             </td><td>4911                           </td><td>Detroit Metro Wayne Co         </td></tr>\n",
       "\t<tr><td>551                            </td><td>AA                             </td><td> 301                           </td><td>Chicago Ohare Intl             </td></tr>\n",
       "\t<tr><td>551                            </td><td>MQ                             </td><td>4650                           </td><td>Hartsfield Jackson Atlanta Intl</td></tr>\n",
       "\t<tr><td>552                            </td><td>AA                             </td><td> 707                           </td><td>Dallas Fort Worth Intl         </td></tr>\n",
       "\t<tr><td>552                            </td><td>B6                             </td><td> 371                           </td><td>Fort Lauderdale Hollywood Intl </td></tr>\n",
       "</tbody>\n",
       "</table>\n"
      ],
      "text/latex": [
       "\\begin{tabular}{r|llll}\n",
       " dep\\_time & carrier & flight & name\\\\\n",
       "\\hline\n",
       "\t 457                             & US                              & 1117                            & Charlotte Douglas Intl         \\\\\n",
       "\t 458                             & UA                              &  697                            & George Bush Intercontinental   \\\\\n",
       "\t 522                             & UA                              & 1714                            & George Bush Intercontinental   \\\\\n",
       "\t 539                             & AA                              & 1141                            & Miami Intl                     \\\\\n",
       "\t 549                             & EV                              & 4911                            & Detroit Metro Wayne Co         \\\\\n",
       "\t 551                             & AA                              &  301                            & Chicago Ohare Intl             \\\\\n",
       "\t 551                             & MQ                              & 4650                            & Hartsfield Jackson Atlanta Intl\\\\\n",
       "\t 552                             & AA                              &  707                            & Dallas Fort Worth Intl         \\\\\n",
       "\t 552                             & B6                              &  371                            & Fort Lauderdale Hollywood Intl \\\\\n",
       "\\end{tabular}\n"
      ],
      "text/markdown": [
       "\n",
       "dep_time | carrier | flight | name | \n",
       "|---|---|---|---|---|---|---|---|---|\n",
       "| 457                             | US                              | 1117                            | Charlotte Douglas Intl          | \n",
       "| 458                             | UA                              |  697                            | George Bush Intercontinental    | \n",
       "| 522                             | UA                              | 1714                            | George Bush Intercontinental    | \n",
       "| 539                             | AA                              | 1141                            | Miami Intl                      | \n",
       "| 549                             | EV                              | 4911                            | Detroit Metro Wayne Co          | \n",
       "| 551                             | AA                              |  301                            | Chicago Ohare Intl              | \n",
       "| 551                             | MQ                              | 4650                            | Hartsfield Jackson Atlanta Intl | \n",
       "| 552                             | AA                              |  707                            | Dallas Fort Worth Intl          | \n",
       "| 552                             | B6                              |  371                            | Fort Lauderdale Hollywood Intl  | \n",
       "\n",
       "\n"
      ],
      "text/plain": [
       "  dep_time carrier flight name                           \n",
       "1 457      US      1117   Charlotte Douglas Intl         \n",
       "2 458      UA       697   George Bush Intercontinental   \n",
       "3 522      UA      1714   George Bush Intercontinental   \n",
       "4 539      AA      1141   Miami Intl                     \n",
       "5 549      EV      4911   Detroit Metro Wayne Co         \n",
       "6 551      AA       301   Chicago Ohare Intl             \n",
       "7 551      MQ      4650   Hartsfield Jackson Atlanta Intl\n",
       "8 552      AA       707   Dallas Fort Worth Intl         \n",
       "9 552      B6       371   Fort Lauderdale Hollywood Intl "
      ]
     },
     "metadata": {},
     "output_type": "display_data"
    }
   ],
   "source": [
    "setwd(\"~/Downloads\")\n",
    "C2 <- read.csv(\"C2.csv\")\n",
    "C2"
   ]
  },
  {
   "cell_type": "markdown",
   "metadata": {},
   "source": [
    "Before I execute these lines, I changed the format of year, month, day and dep_time from flights data to 'INTEGER'."
   ]
  },
  {
   "cell_type": "markdown",
   "metadata": {},
   "source": [
    "3\\.  Replicate B3 above using an SQL query, including both the command and the output.\n",
    "\n",
    "\n"
   ]
  },
  {
   "cell_type": "markdown",
   "metadata": {},
   "source": [
    "SELECT distinct flights.carrier, flights.tailnum, 2013-avg(planes.year) as average_year\n",
    "from flights inner join planes\n",
    "on flights.tailnum = planes.tailnum\n",
    "group by carrier"
   ]
  },
  {
   "cell_type": "code",
   "execution_count": 9,
   "metadata": {},
   "outputs": [
    {
     "data": {
      "text/html": [
       "<table>\n",
       "<thead><tr><th scope=col>carrier</th><th scope=col>tailnum</th><th scope=col>average_year</th></tr></thead>\n",
       "<tbody>\n",
       "\t<tr><td>9E       </td><td>N906XJ   </td><td> 11.59290</td></tr>\n",
       "\t<tr><td>AA       </td><td>N335AA   </td><td> 63.38089</td></tr>\n",
       "\t<tr><td>AS       </td><td>N528AS   </td><td> 14.59524</td></tr>\n",
       "\t<tr><td>B6       </td><td>N516JB   </td><td> 38.34473</td></tr>\n",
       "\t<tr><td>DL       </td><td>N193DN   </td><td> 38.29348</td></tr>\n",
       "\t<tr><td>EV       </td><td>N740EV   </td><td> 71.50051</td></tr>\n",
       "\t<tr><td>F9       </td><td>N204FR   </td><td>  4.87874</td></tr>\n",
       "\t<tr><td>FL       </td><td>N894AT   </td><td> 73.26456</td></tr>\n",
       "\t<tr><td>HA       </td><td>N392HA   </td><td>189.75439</td></tr>\n",
       "\t<tr><td>MQ       </td><td>N519MQ   </td><td> 35.31900</td></tr>\n",
       "\t<tr><td>OO       </td><td>N785SK   </td><td>  6.84375</td></tr>\n",
       "\t<tr><td>UA       </td><td>N578UA   </td><td> 43.21932</td></tr>\n",
       "\t<tr><td>US       </td><td>N953UW   </td><td> 82.54383</td></tr>\n",
       "\t<tr><td>VX       </td><td>N844VA   </td><td> 42.21620</td></tr>\n",
       "\t<tr><td>WN       </td><td>N7741C   </td><td> 50.90324</td></tr>\n",
       "\t<tr><td>YV       </td><td>N924FJ   </td><td> 25.98336</td></tr>\n",
       "</tbody>\n",
       "</table>\n"
      ],
      "text/latex": [
       "\\begin{tabular}{r|lll}\n",
       " carrier & tailnum & average\\_year\\\\\n",
       "\\hline\n",
       "\t 9E        & N906XJ    &  11.59290\\\\\n",
       "\t AA        & N335AA    &  63.38089\\\\\n",
       "\t AS        & N528AS    &  14.59524\\\\\n",
       "\t B6        & N516JB    &  38.34473\\\\\n",
       "\t DL        & N193DN    &  38.29348\\\\\n",
       "\t EV        & N740EV    &  71.50051\\\\\n",
       "\t F9        & N204FR    &   4.87874\\\\\n",
       "\t FL        & N894AT    &  73.26456\\\\\n",
       "\t HA        & N392HA    & 189.75439\\\\\n",
       "\t MQ        & N519MQ    &  35.31900\\\\\n",
       "\t OO        & N785SK    &   6.84375\\\\\n",
       "\t UA        & N578UA    &  43.21932\\\\\n",
       "\t US        & N953UW    &  82.54383\\\\\n",
       "\t VX        & N844VA    &  42.21620\\\\\n",
       "\t WN        & N7741C    &  50.90324\\\\\n",
       "\t YV        & N924FJ    &  25.98336\\\\\n",
       "\\end{tabular}\n"
      ],
      "text/markdown": [
       "\n",
       "carrier | tailnum | average_year | \n",
       "|---|---|---|---|---|---|---|---|---|---|---|---|---|---|---|---|\n",
       "| 9E        | N906XJ    |  11.59290 | \n",
       "| AA        | N335AA    |  63.38089 | \n",
       "| AS        | N528AS    |  14.59524 | \n",
       "| B6        | N516JB    |  38.34473 | \n",
       "| DL        | N193DN    |  38.29348 | \n",
       "| EV        | N740EV    |  71.50051 | \n",
       "| F9        | N204FR    |   4.87874 | \n",
       "| FL        | N894AT    |  73.26456 | \n",
       "| HA        | N392HA    | 189.75439 | \n",
       "| MQ        | N519MQ    |  35.31900 | \n",
       "| OO        | N785SK    |   6.84375 | \n",
       "| UA        | N578UA    |  43.21932 | \n",
       "| US        | N953UW    |  82.54383 | \n",
       "| VX        | N844VA    |  42.21620 | \n",
       "| WN        | N7741C    |  50.90324 | \n",
       "| YV        | N924FJ    |  25.98336 | \n",
       "\n",
       "\n"
      ],
      "text/plain": [
       "   carrier tailnum average_year\n",
       "1  9E      N906XJ   11.59290   \n",
       "2  AA      N335AA   63.38089   \n",
       "3  AS      N528AS   14.59524   \n",
       "4  B6      N516JB   38.34473   \n",
       "5  DL      N193DN   38.29348   \n",
       "6  EV      N740EV   71.50051   \n",
       "7  F9      N204FR    4.87874   \n",
       "8  FL      N894AT   73.26456   \n",
       "9  HA      N392HA  189.75439   \n",
       "10 MQ      N519MQ   35.31900   \n",
       "11 OO      N785SK    6.84375   \n",
       "12 UA      N578UA   43.21932   \n",
       "13 US      N953UW   82.54383   \n",
       "14 VX      N844VA   42.21620   \n",
       "15 WN      N7741C   50.90324   \n",
       "16 YV      N924FJ   25.98336   "
      ]
     },
     "metadata": {},
     "output_type": "display_data"
    }
   ],
   "source": [
    "C3 <- read.csv(\"C3.csv\")\n",
    "C3"
   ]
  }
 ],
 "metadata": {
  "kernelspec": {
   "display_name": "R",
   "language": "R",
   "name": "ir"
  },
  "language_info": {
   "codemirror_mode": "r",
   "file_extension": ".r",
   "mimetype": "text/x-r-source",
   "name": "R",
   "pygments_lexer": "r",
   "version": "3.4.2"
  }
 },
 "nbformat": 4,
 "nbformat_minor": 2
}
